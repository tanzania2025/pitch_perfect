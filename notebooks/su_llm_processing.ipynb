{
 "cells": [
  {
   "cell_type": "code",
   "execution_count": 2,
   "id": "74a19208",
   "metadata": {},
   "outputs": [
    {
     "name": "stdout",
     "output_type": "stream",
     "text": [
      "Improved text: I strongly believe we should seriously consider the new proposal as it holds significant importance.\n",
      "Prosody guide: {'rate': {'current_rate': 4.8, 'target_rate': 4.08, 'adjustment': 'slower'}, 'pitch': {'base_pitch': 150, 'variation_needed': 'increase', 'adjustment_factor': 1.3}, 'emphasis_words': [(13, 'significant')], 'pause_locations': [100], 'volume': {'adjustment': 'increase', 'factor': 1.5}, 'emotion_target': 'confident_friendly', 'ssml_markup': None}\n"
     ]
    }
   ],
   "source": [
    "# Initialize\n",
    "from pitchperfect.llm_processing import text_improver as ti\n",
    "generator = ti.ImprovementGenerator()\n",
    "\n",
    "# Input data\n",
    "text = \"Um, so basically I think we should, you know, maybe consider the new proposal because it's pretty important.\"\n",
    "text_sentiment = {'emotion': 'neutral', 'score': 0.85}\n",
    "acoustic_features = {\n",
    "    'pitch_mean': 150,\n",
    "    'pitch_std': 15,  # Low variation (monotone)\n",
    "    'speaking_rate': 4.8,  # Too fast\n",
    "    'energy': 0.015,  # Too quiet\n",
    "    'pause_ratio': 0.08,  # Not enough pauses\n",
    "    'monotone_score': 0.75\n",
    "}\n",
    "\n",
    "# Generate improvements\n",
    "improved_text, prosody_guide = generator.generate_improvements(\n",
    "    text, text_sentiment, acoustic_features\n",
    ")\n",
    "\n",
    "# Output\n",
    "print(\"Improved text:\", improved_text)\n",
    "# \"I strongly believe we should consider the new proposal, as it's critical to our success.\"\n",
    "\n",
    "print(\"Prosody guide:\", prosody_guide)\n",
    "# {\n",
    "#     'rate': {'multiplier': 0.85, 'target_wpm': 245, 'adjustment': 'slower'},\n",
    "#     'emphasis_words': [(2, 'strongly'), (8, 'critical')],\n",
    "#     'pause_locations': [{'type': 'short', 'after': ','}, {'type': 'medium', 'before': 'critical'}],\n",
    "#     'volume': {'adjustment': 'increase', 'factor': 1.5},\n",
    "#     'ssml_markup': '<speak><prosody rate=\"85%\">...'\n",
    "# }"
   ]
  },
  {
   "cell_type": "code",
   "execution_count": 1,
   "id": "d9feafff",
   "metadata": {},
   "outputs": [],
   "source": [
    "from pitchperfect.config.settings import GENERATED_AUDIO_DIR"
   ]
  },
  {
   "cell_type": "code",
   "execution_count": 2,
   "id": "4438edc6",
   "metadata": {},
   "outputs": [
    {
     "data": {
      "text/plain": [
       "PosixPath('/Users/sunaina/code/tanzania2025/pitch_perfect/outputs/generated_audio')"
      ]
     },
     "execution_count": 2,
     "metadata": {},
     "output_type": "execute_result"
    }
   ],
   "source": [
    "GENERATED_AUDIO_DIR"
   ]
  },
  {
   "cell_type": "code",
   "execution_count": 3,
   "id": "c148f3a9",
   "metadata": {},
   "outputs": [
    {
     "name": "stderr",
     "output_type": "stream",
     "text": [
      "Device set to use cpu\n"
     ]
    },
    {
     "data": {
      "text/plain": [
       "{'emotion': 'joy',\n",
       " 'confidence': 0.9707663059234619,\n",
       " 'emotion_scores': {'joy': 0.9707663059234619,\n",
       "  'surprise': 0.01584477722644806,\n",
       "  'sadness': 0.00897348951548338,\n",
       "  'neutral': 0.0025078447069972754,\n",
       "  'anger': 0.001236154930666089,\n",
       "  'disgust': 0.0003366733726579696,\n",
       "  'fear': 0.00033472562790848315},\n",
       " 'valence': 0.9781831993324273,\n",
       " 'arousal': 0.9881819920657273,\n",
       " 'sentiment': 'positive',\n",
       " 'text_length': 4}"
      ]
     },
     "execution_count": 3,
     "metadata": {},
     "output_type": "execute_result"
    }
   ],
   "source": [
    "# Sentiment Analysis\n",
    "from pitchperfect.text_sentiment_analysis.analyzer import TextSentimentAnalyzer\n",
    "analyzer = TextSentimentAnalyzer()\n",
    "sentiment = analyzer.analyze(\"I am happy today\")\n",
    "sentiment"
   ]
  },
  {
   "cell_type": "code",
   "execution_count": null,
   "id": "4c8b8179",
   "metadata": {},
   "outputs": [],
   "source": [
    "# Tonal Analysis\n",
    "from pitchperfect.tonal_analysis.analyzer import TonalAnalyzer\n",
    "tonal_analyzer = TonalAnalyzer()\n",
    "tonal_features = tonal_analyzer.analyze(\"audio.wav\")\n",
    "\n",
    "# LLM Improvements\n",
    "from pitchperfect.llm_processing.improvement_generator import ImprovementGenerator\n",
    "generator = ImprovementGenerator()\n",
    "improvements = generator.generate_improvements(\n",
    "    text, sentiment, tonal_features\n",
    ")"
   ]
  },
  {
   "cell_type": "code",
   "execution_count": 4,
   "id": "ec80a462",
   "metadata": {},
   "outputs": [
    {
     "name": "stdout",
     "output_type": "stream",
     "text": [
      "/Users/sunaina/code/tanzania2025/pitch_perfect/notebooks\n"
     ]
    },
    {
     "name": "stderr",
     "output_type": "stream",
     "text": [
      "huggingface/tokenizers: The current process just got forked, after parallelism has already been used. Disabling parallelism to avoid deadlocks...\n",
      "To disable this warning, you can either:\n",
      "\t- Avoid using `tokenizers` before the fork if possible\n",
      "\t- Explicitly set the environment variable TOKENIZERS_PARALLELISM=(true | false)\n"
     ]
    }
   ],
   "source": [
    "!pwd"
   ]
  },
  {
   "cell_type": "code",
   "execution_count": null,
   "id": "40fa4615",
   "metadata": {},
   "outputs": [],
   "source": []
  }
 ],
 "metadata": {
  "kernelspec": {
   "display_name": "pitchperfect_env",
   "language": "python",
   "name": "python3"
  },
  "language_info": {
   "codemirror_mode": {
    "name": "ipython",
    "version": 3
   },
   "file_extension": ".py",
   "mimetype": "text/x-python",
   "name": "python",
   "nbconvert_exporter": "python",
   "pygments_lexer": "ipython3",
   "version": "3.12.9"
  }
 },
 "nbformat": 4,
 "nbformat_minor": 5
}
