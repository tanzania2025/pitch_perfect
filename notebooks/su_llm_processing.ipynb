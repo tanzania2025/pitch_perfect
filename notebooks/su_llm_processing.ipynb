{
 "cells": [
  {
   "cell_type": "code",
   "execution_count": 2,
   "id": "74a19208",
   "metadata": {},
   "outputs": [
    {
     "name": "stdout",
     "output_type": "stream",
     "text": [
      "Improved text: I strongly believe we should seriously consider the new proposal as it holds significant importance.\n",
      "Prosody guide: {'rate': {'current_rate': 4.8, 'target_rate': 4.08, 'adjustment': 'slower'}, 'pitch': {'base_pitch': 150, 'variation_needed': 'increase', 'adjustment_factor': 1.3}, 'emphasis_words': [(13, 'significant')], 'pause_locations': [100], 'volume': {'adjustment': 'increase', 'factor': 1.5}, 'emotion_target': 'confident_friendly', 'ssml_markup': None}\n"
     ]
    }
   ],
   "source": [
    "# Initialize\n",
    "from pitchperfect.llm_processing import text_improver as ti\n",
    "generator = ti.ImprovementGenerator()\n",
    "\n",
    "# Input data\n",
    "text = \"Um, so basically I think we should, you know, maybe consider the new proposal because it's pretty important.\"\n",
    "text_sentiment = {'emotion': 'neutral', 'score': 0.85}\n",
    "acoustic_features = {\n",
    "    'pitch_mean': 150,\n",
    "    'pitch_std': 15,  # Low variation (monotone)\n",
    "    'speaking_rate': 4.8,  # Too fast\n",
    "    'energy': 0.015,  # Too quiet\n",
    "    'pause_ratio': 0.08,  # Not enough pauses\n",
    "    'monotone_score': 0.75\n",
    "}\n",
    "\n",
    "# Generate improvements\n",
    "improved_text, prosody_guide = generator.generate_improvements(\n",
    "    text, text_sentiment, acoustic_features\n",
    ")\n",
    "\n",
    "# Output\n",
    "print(\"Improved text:\", improved_text)\n",
    "# \"I strongly believe we should consider the new proposal, as it's critical to our success.\"\n",
    "\n",
    "print(\"Prosody guide:\", prosody_guide)\n",
    "# {\n",
    "#     'rate': {'multiplier': 0.85, 'target_wpm': 245, 'adjustment': 'slower'},\n",
    "#     'emphasis_words': [(2, 'strongly'), (8, 'critical')],\n",
    "#     'pause_locations': [{'type': 'short', 'after': ','}, {'type': 'medium', 'before': 'critical'}],\n",
    "#     'volume': {'adjustment': 'increase', 'factor': 1.5},\n",
    "#     'ssml_markup': '<speak><prosody rate=\"85%\">...'\n",
    "# }"
   ]
  },
  {
   "cell_type": "code",
   "execution_count": null,
   "id": "4438edc6",
   "metadata": {},
   "outputs": [],
   "source": []
  }
 ],
 "metadata": {
  "kernelspec": {
   "display_name": "pitchperfect_env",
   "language": "python",
   "name": "python3"
  },
  "language_info": {
   "codemirror_mode": {
    "name": "ipython",
    "version": 3
   },
   "file_extension": ".py",
   "mimetype": "text/x-python",
   "name": "python",
   "nbconvert_exporter": "python",
   "pygments_lexer": "ipython3",
   "version": "3.12.9"
  }
 },
 "nbformat": 4,
 "nbformat_minor": 5
}
