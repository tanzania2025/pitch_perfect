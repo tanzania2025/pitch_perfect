{
 "cells": [
  {
   "cell_type": "code",
   "execution_count": 11,
   "id": "bbd2c00b-5267-49b8-97c4-48ab984b6044",
   "metadata": {
    "execution": {
     "iopub.execute_input": "2025-08-26T16:23:41.504304Z",
     "iopub.status.busy": "2025-08-26T16:23:41.503369Z",
     "iopub.status.idle": "2025-08-26T16:23:41.512244Z",
     "shell.execute_reply": "2025-08-26T16:23:41.511039Z",
     "shell.execute_reply.started": "2025-08-26T16:23:41.504240Z"
    }
   },
   "outputs": [],
   "source": [
    "# Basic imports\n",
    "import pandas as pd\n",
    "import numpy as np\n",
    "import librosa\n",
    "import torch\n",
    "import torch.nn as nn\n",
    "import torch.optim as optim\n",
    "from torch.utils.data import DataLoader\n",
    "from sklearn.preprocessing import LabelEncoder\n",
    "from sklearn.utils.class_weight import compute_class_weight\n",
    "from tqdm import tqdm\n",
    "import matplotlib.pyplot as plt"
   ]
  },
  {
   "cell_type": "code",
   "execution_count": 12,
   "id": "927e7770-44c8-4fb3-8f18-c751129107d9",
   "metadata": {
    "execution": {
     "iopub.execute_input": "2025-08-26T16:23:41.941273Z",
     "iopub.status.busy": "2025-08-26T16:23:41.940727Z",
     "iopub.status.idle": "2025-08-26T16:23:41.991417Z",
     "shell.execute_reply": "2025-08-26T16:23:41.990991Z",
     "shell.execute_reply.started": "2025-08-26T16:23:41.941234Z"
    }
   },
   "outputs": [
    {
     "name": "stdout",
     "output_type": "stream",
     "text": [
      "Train size: 9989 | Dev size: 1109 | Test size: 2610\n",
      "Emotion distribution in training set:\n",
      "Emotion\n",
      "neutral     4710\n",
      "joy         1743\n",
      "surprise    1205\n",
      "anger       1109\n",
      "sadness      683\n",
      "disgust      271\n",
      "fear         268\n",
      "Name: count, dtype: int64\n"
     ]
    }
   ],
   "source": [
    "\n",
    "train_df = pd.read_csv(\"MELD.Raw/train/train_sent_emo.csv\")\n",
    "dev_df = pd.read_csv(\"MELD.Raw/dev_sent_emo.csv\")\n",
    "test_df = pd.read_csv(\"MELD.Raw/test_sent_emo.csv\")\n",
    "\n",
    "print(f\"Train size: {len(train_df)} | Dev size: {len(dev_df)} | Test size: {len(test_df)}\")\n",
    "print(\"Emotion distribution in training set:\")\n",
    "print(train_df['Emotion'].value_counts())\n"
   ]
  },
  {
   "cell_type": "code",
   "execution_count": 13,
   "id": "70c2a6d1-5024-447a-a7f6-9185824eac42",
   "metadata": {
    "execution": {
     "iopub.execute_input": "2025-08-26T16:23:42.452234Z",
     "iopub.status.busy": "2025-08-26T16:23:42.451865Z",
     "iopub.status.idle": "2025-08-26T16:23:42.716067Z",
     "shell.execute_reply": "2025-08-26T16:23:42.715769Z",
     "shell.execute_reply.started": "2025-08-26T16:23:42.452210Z"
    }
   },
   "outputs": [],
   "source": [
    "import os\n",
    "import librosa\n",
    "import librosa.display\n",
    "import matplotlib.pyplot as plt\n",
    "\n",
    "for i in range(len(train_df)):\n",
    "    row = train_df.iloc[i]\n",
    "    dialogue_id = row['Dialogue_ID']\n",
    "    utterance_id = row['Utterance_ID']\n",
    "    sample_path = f\"./train/dia{dialogue_id}_utt{utterance_id}.wav\"\n",
    "\n",
    "    if os.path.exists(sample_path):\n",
    "        print(f\"Found audio: {sample_path} | Emotion: {row['Emotion']}\")\n",
    "        y, sr = librosa.load(sample_path, sr=16000)\n",
    "        plt.figure(figsize=(12, 4))\n",
    "        librosa.display.waveshow(y, sr=sr)\n",
    "        plt.title(f\"Waveform Example: {row['Emotion']}\")\n",
    "        plt.show()\n",
    "        break\n"
   ]
  },
  {
   "cell_type": "code",
   "execution_count": null,
   "id": "59503318-b909-47f1-ac95-7d27d8934417",
   "metadata": {},
   "outputs": [],
   "source": []
  }
 ],
 "metadata": {
  "kernelspec": {
   "display_name": "Python 3 (ipykernel)",
   "language": "python",
   "name": "python3"
  },
  "language_info": {
   "codemirror_mode": {
    "name": "ipython",
    "version": 3
   },
   "file_extension": ".py",
   "mimetype": "text/x-python",
   "name": "python",
   "nbconvert_exporter": "python",
   "pygments_lexer": "ipython3",
   "version": "3.12.9"
  }
 },
 "nbformat": 4,
 "nbformat_minor": 5
}
