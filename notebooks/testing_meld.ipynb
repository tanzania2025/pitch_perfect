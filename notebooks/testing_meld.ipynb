{
 "cells": [
  {
   "cell_type": "code",
   "execution_count": 7,
   "id": "c0ec95aa-693b-4921-9795-1b1ec928aa73",
   "metadata": {
    "tags": []
   },
   "outputs": [
    {
     "name": "stdout",
     "output_type": "stream",
     "text": [
      "Torch CUDA available? False\n"
     ]
    }
   ],
   "source": [
    "# === CLEAN TRAINING CELL FOR MELD (text-only, 7 emotions) ===\n",
    "import os, pandas as pd, numpy as np, torch\n",
    "from collections import Counter\n",
    "from datasets import Dataset, DatasetDict\n",
    "from transformers import (\n",
    "    AutoTokenizer,\n",
    "    AutoModelForSequenceClassification,\n",
    "    TrainingArguments,\n",
    "    Trainer,\n",
    "    EarlyStoppingCallback,\n",
    ")\n",
    "from sklearn.metrics import accuracy_score, f1_score, classification_report\n",
    "import torch.nn as nn\n",
    "\n",
    "os.environ[\"TOKENIZERS_PARALLELISM\"] = \"false\"\n",
    "\n",
    "print(\"Torch CUDA available?\", torch.cuda.is_available())\n",
    "\n",
    "# ---- Paths & labels ----\n",
    "DATA_DIR = \"meld_data\"\n",
    "TRAIN_CSV = os.path.join(DATA_DIR, \"train_sent_emo.csv\")\n",
    "DEV_CSV = os.path.join(DATA_DIR, \"dev_sent_emo.csv\")\n",
    "TEST_CSV = os.path.join(DATA_DIR, \"test_sent_emo.csv\")\n",
    "\n",
    "CLASSES = [\"anger\", \"disgust\", \"fear\", \"joy\", \"neutral\", \"sadness\", \"surprise\"]\n",
    "label2id = {c: i for i, c in enumerate(CLASSES)}\n",
    "id2label = {i: c for c, i in label2id.items()}\n",
    "\n",
    "# ---- Load data ----\n",
    "use_cols = [\"Utterance\", \"Emotion\"]\n",
    "train_df = pd.read_csv(TRAIN_CSV)[use_cols].dropna()\n",
    "dev_df = pd.read_csv(DEV_CSV)[use_cols].dropna()\n",
    "test_df = pd.read_csv(TEST_CSV)[use_cols].dropna()\n",
    "\n",
    "for df in (train_df, dev_df, test_df):\n",
    "    df[\"label\"] = df[\"Emotion\"].map(label2id)\n",
    "    df.rename(columns={\"Utterance\": \"text\"}, inplace=True)\n",
    "\n",
    "ds = DatasetDict(\n",
    "    {\n",
    "        \"train\": Dataset.from_pandas(\n",
    "            train_df[[\"text\", \"label\"]].reset_index(drop=True)\n",
    "        ),\n",
    "        \"validation\": Dataset.from_pandas(\n",
    "            dev_df[[\"text\", \"label\"]].reset_index(drop=True)\n",
    "        ),\n",
    "        \"test\": Dataset.from_pandas(test_df[[\"text\", \"label\"]].reset_index(drop=True)),\n",
    "    }\n",
    ")"
   ]
  },
  {
   "cell_type": "code",
   "execution_count": 8,
   "id": "79b9308d-8492-4747-9d3d-88016d221b5f",
   "metadata": {
    "tags": []
   },
   "outputs": [
    {
     "data": {
      "application/vnd.jupyter.widget-view+json": {
       "model_id": "82972d79352d4452818546611ea7ac3d",
       "version_major": 2,
       "version_minor": 0
      },
      "text/plain": [
       "Map:   0%|          | 0/9989 [00:00<?, ? examples/s]"
      ]
     },
     "metadata": {},
     "output_type": "display_data"
    },
    {
     "data": {
      "application/vnd.jupyter.widget-view+json": {
       "model_id": "05288d44533541c59921846cd3525b02",
       "version_major": 2,
       "version_minor": 0
      },
      "text/plain": [
       "Map:   0%|          | 0/1109 [00:00<?, ? examples/s]"
      ]
     },
     "metadata": {},
     "output_type": "display_data"
    },
    {
     "data": {
      "application/vnd.jupyter.widget-view+json": {
       "model_id": "f5b68830acd74138b64ec1a31ce4739f",
       "version_major": 2,
       "version_minor": 0
      },
      "text/plain": [
       "Map:   0%|          | 0/2610 [00:00<?, ? examples/s]"
      ]
     },
     "metadata": {},
     "output_type": "display_data"
    },
    {
     "name": "stderr",
     "output_type": "stream",
     "text": [
      "Some weights of RobertaForSequenceClassification were not initialized from the model checkpoint at roberta-large and are newly initialized: ['classifier.dense.bias', 'classifier.dense.weight', 'classifier.out_proj.bias', 'classifier.out_proj.weight']\n",
      "You should probably TRAIN this model on a down-stream task to be able to use it for predictions and inference.\n"
     ]
    }
   ],
   "source": [
    "# ---- Model & tokenizer ----\n",
    "model_name = \"roberta-large\"  # or \"microsoft/deberta-v3-base\"\n",
    "tokenizer = AutoTokenizer.from_pretrained(model_name, use_fast=True)\n",
    "\n",
    "\n",
    "def tokenize(batch):\n",
    "    return tokenizer(\n",
    "        batch[\"text\"], truncation=True, max_length=256, padding=\"max_length\"\n",
    "    )\n",
    "\n",
    "\n",
    "ds_tok = ds.map(tokenize, batched=True, remove_columns=[\"text\"])\n",
    "\n",
    "model = AutoModelForSequenceClassification.from_pretrained(\n",
    "    model_name, num_labels=len(CLASSES), id2label=id2label, label2id=label2id\n",
    ")\n",
    "# NOTE: \"Some weights ... newly initialized\" is expected before fine-tuning.\n",
    "\n",
    "# ---- Class weights (imbalanced data) ----\n",
    "counts = Counter(train_df[\"label\"].tolist())\n",
    "total = sum(counts.values())\n",
    "class_weights = torch.tensor(\n",
    "    [total / (len(CLASSES) * counts[i]) for i in range(len(CLASSES))], dtype=torch.float\n",
    ")\n",
    "\n",
    "\n",
    "# ---- Metrics ----\n",
    "def compute_metrics(eval_pred):\n",
    "    logits, labels = eval_pred\n",
    "    preds = logits.argmax(axis=-1)\n",
    "    return {\n",
    "        \"accuracy\": accuracy_score(labels, preds),\n",
    "        \"f1\": f1_score(labels, preds, average=\"weighted\"),\n",
    "    }\n",
    "\n",
    "\n",
    "# ---- Weighted-loss Trainer ----\n",
    "class WeightedCELossTrainer(Trainer):\n",
    "    def __init__(self, class_weights=None, *args, **kwargs):\n",
    "        super().__init__(*args, **kwargs)\n",
    "        self.class_weights = class_weights\n",
    "        self.loss_fct = nn.CrossEntropyLoss(\n",
    "            weight=(\n",
    "                self.class_weights.to(self.model.device)\n",
    "                if self.class_weights is not None\n",
    "                else None\n",
    "            )\n",
    "        )\n",
    "\n",
    "    def compute_loss(self, model, inputs, return_outputs=False):\n",
    "        labels = inputs.get(\"labels\", inputs.get(\"label\"))\n",
    "        model_inputs = {k: v for k, v in inputs.items() if k not in (\"labels\", \"label\")}\n",
    "        outputs = model(**model_inputs)\n",
    "        logits = outputs.logits\n",
    "        loss = self.loss_fct(logits, labels)\n",
    "        return (loss, outputs) if return_outputs else loss"
   ]
  },
  {
   "cell_type": "code",
   "execution_count": 9,
   "id": "8364241c-43f4-4419-b497-8895f7f0ffb8",
   "metadata": {
    "tags": []
   },
   "outputs": [
    {
     "data": {
      "text/html": [],
      "text/plain": [
       "<IPython.core.display.HTML object>"
      ]
     },
     "metadata": {},
     "output_type": "display_data"
    },
    {
     "name": "stderr",
     "output_type": "stream",
     "text": [
      "early stopping required metric_for_best_model, but did not find eval_precision_macro so early stopping is disabled\n"
     ]
    },
    {
     "name": "stdout",
     "output_type": "stream",
     "text": [
      "\n",
      "TEST metrics: {'eval_loss': 1.9737850427627563, 'eval_model_preparation_time': 0.009, 'eval_accuracy': 0.06206896551724138, 'eval_f1': 0.03081856534937973, 'eval_runtime': 3610.6385, 'eval_samples_per_second': 0.723, 'eval_steps_per_second': 0.091}\n",
      "\n",
      "Classification report (TEST):\n",
      "              precision    recall  f1-score   support\n",
      "\n",
      "       anger     0.1012    0.2029    0.1350       345\n",
      "     disgust     0.0000    0.0000    0.0000        68\n",
      "        fear     0.0000    0.0000    0.0000        50\n",
      "         joy     0.0000    0.0000    0.0000       402\n",
      "     neutral     0.0000    0.0000    0.0000      1256\n",
      "     sadness     0.0557    0.3221    0.0950       208\n",
      "    surprise     0.0350    0.0890    0.0502       281\n",
      "\n",
      "    accuracy                         0.0621      2610\n",
      "   macro avg     0.0274    0.0877    0.0400      2610\n",
      "weighted avg     0.0216    0.0621    0.0308      2610\n",
      "\n"
     ]
    },
    {
     "name": "stderr",
     "output_type": "stream",
     "text": [
      "/opt/conda/lib/python3.10/site-packages/sklearn/metrics/_classification.py:1731: UndefinedMetricWarning: Precision is ill-defined and being set to 0.0 in labels with no predicted samples. Use `zero_division` parameter to control this behavior.\n",
      "  _warn_prf(average, modifier, f\"{metric.capitalize()} is\", result.shape[0])\n",
      "/opt/conda/lib/python3.10/site-packages/sklearn/metrics/_classification.py:1731: UndefinedMetricWarning: Precision is ill-defined and being set to 0.0 in labels with no predicted samples. Use `zero_division` parameter to control this behavior.\n",
      "  _warn_prf(average, modifier, f\"{metric.capitalize()} is\", result.shape[0])\n",
      "/opt/conda/lib/python3.10/site-packages/sklearn/metrics/_classification.py:1731: UndefinedMetricWarning: Precision is ill-defined and being set to 0.0 in labels with no predicted samples. Use `zero_division` parameter to control this behavior.\n",
      "  _warn_prf(average, modifier, f\"{metric.capitalize()} is\", result.shape[0])\n"
     ]
    }
   ],
   "source": [
    "# ---- TrainingArguments (simple & correct for 4.55.4) ----\n",
    "bs = 16 if torch.cuda.is_available() else 8\n",
    "\n",
    "args = TrainingArguments(\n",
    "    output_dir=\"./runs\",\n",
    "    eval_strategy=\"epoch\",\n",
    "    save_strategy=\"epoch\",\n",
    "    logging_strategy=\"steps\",\n",
    "    logging_steps=50,\n",
    "    load_best_model_at_end=True,\n",
    "    metric_for_best_model=\"precision_macro\",\n",
    "    greater_is_better=True,\n",
    "    num_train_epochs=30,\n",
    "    per_device_train_batch_size=32,\n",
    "    gradient_accumulation_steps=1,\n",
    "    learning_rate=3e-5,\n",
    "    weight_decay=0.01,\n",
    "    warmup_ratio=0.05,\n",
    ")\n",
    "\n",
    "\n",
    "trainer = WeightedCELossTrainer(\n",
    "    model=model,\n",
    "    args=args,\n",
    "    train_dataset=ds_tok[\"train\"],  # ✅ tokenized dataset\n",
    "    eval_dataset=ds_tok[\"validation\"],  # ✅ tokenized dataset\n",
    "    compute_metrics=compute_metrics,\n",
    "    callbacks=[EarlyStoppingCallback(early_stopping_patience=3)],\n",
    ")\n",
    "# class_weights=class_weights,\n",
    "\n",
    "\n",
    "# ---- Train & Evaluate ----\n",
    "# train_result = trainer.train()\n",
    "# print(train_result.metrics)\n",
    "# print(\"\\nBest checkpoint:\", trainer.state.best_model_checkpoint)\n",
    "\n",
    "# print(\"\\nDEV metrics:\", trainer.evaluate(ds_tok[\"validation\"]))\n",
    "test_metrics = trainer.evaluate(ds_tok[\"test\"])\n",
    "print(\"\\nTEST metrics:\", test_metrics)\n",
    "\n",
    "preds = trainer.predict(ds_tok[\"test\"]).predictions.argmax(axis=-1)\n",
    "print(\"\\nClassification report (TEST):\")\n",
    "print(classification_report(test_df[\"label\"], preds, target_names=CLASSES, digits=4))"
   ]
  },
  {
   "cell_type": "code",
   "execution_count": null,
   "id": "661c605d-643b-48e6-a803-324775959583",
   "metadata": {
    "tags": []
   },
   "outputs": [
    {
     "data": {
      "text/html": [
       "\n",
       "    <div>\n",
       "      \n",
       "      <progress value='321' max='327' style='width:300px; height:20px; vertical-align: middle;'></progress>\n",
       "      [321/327 1:04:21 < 01:12, 0.08 it/s]\n",
       "    </div>\n",
       "    "
      ],
      "text/plain": [
       "<IPython.core.display.HTML object>"
      ]
     },
     "metadata": {},
     "output_type": "display_data"
    }
   ],
   "source": [
    "trainer.evaluate(ds_tok[\"test\"])"
   ]
  },
  {
   "cell_type": "code",
   "execution_count": null,
   "id": "64c9bf63-466d-4c4c-b334-99b106fb21c6",
   "metadata": {},
   "outputs": [],
   "source": []
  }
 ],
 "metadata": {
  "environment": {
   "kernel": "conda-base-py",
   "name": "workbench-notebooks.m131",
   "type": "gcloud",
   "uri": "us-docker.pkg.dev/deeplearning-platform-release/gcr.io/workbench-notebooks:m131"
  },
  "kernelspec": {
   "display_name": "Python 3 (ipykernel)",
   "language": "python",
   "name": "conda-base-py"
  },
  "language_info": {
   "codemirror_mode": {
    "name": "ipython",
    "version": 3
   },
   "file_extension": ".py",
   "mimetype": "text/x-python",
   "name": "python",
   "nbconvert_exporter": "python",
   "pygments_lexer": "ipython3",
   "version": "3.10.18"
  }
 },
 "nbformat": 4,
 "nbformat_minor": 5
}
