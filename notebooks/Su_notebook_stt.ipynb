{
 "cells": [
  {
   "cell_type": "code",
   "execution_count": null,
   "id": "36934d6d",
   "metadata": {},
   "outputs": [],
   "source": [
    "from pitchperfect.speech_to_text import AudioTranscriber"
   ]
  },
  {
   "cell_type": "code",
   "execution_count": 3,
   "id": "4e2c0169",
   "metadata": {},
   "outputs": [
    {
     "ename": "FileNotFoundError",
     "evalue": "Audio file not found: path/to/audio.wav",
     "output_type": "error",
     "traceback": [
      "\u001b[31m---------------------------------------------------------------------------\u001b[39m",
      "\u001b[31mFileNotFoundError\u001b[39m                         Traceback (most recent call last)",
      "\u001b[36mCell\u001b[39m\u001b[36m \u001b[39m\u001b[32mIn[3]\u001b[39m\u001b[32m, line 4\u001b[39m\n\u001b[32m      1\u001b[39m t = AudioTranscriber(model=\u001b[33m\"\u001b[39m\u001b[33mwhisper-1\u001b[39m\u001b[33m\"\u001b[39m, language=\u001b[33m\"\u001b[39m\u001b[33men\u001b[39m\u001b[33m\"\u001b[39m, use_cache=\u001b[38;5;28;01mTrue\u001b[39;00m)\n\u001b[32m      3\u001b[39m \u001b[38;5;66;03m# Single\u001b[39;00m\n\u001b[32m----> \u001b[39m\u001b[32m4\u001b[39m res = \u001b[43mt\u001b[49m\u001b[43m.\u001b[49m\u001b[43mtranscribe\u001b[49m\u001b[43m(\u001b[49m\u001b[33;43m\"\u001b[39;49m\u001b[33;43mpath/to/audio.wav\u001b[39;49m\u001b[33;43m\"\u001b[39;49m\u001b[43m)\u001b[49m\n\u001b[32m      5\u001b[39m \u001b[38;5;28mprint\u001b[39m(res[\u001b[33m\"\u001b[39m\u001b[33mtext\u001b[39m\u001b[33m\"\u001b[39m])\n\u001b[32m      7\u001b[39m \u001b[38;5;66;03m# Batch\u001b[39;00m\n",
      "\u001b[36mFile \u001b[39m\u001b[32m~/code/tanzania2025/pitch_perfect/pitchperfect/speech_to_text/transcriber.py:85\u001b[39m, in \u001b[36mAudioTranscriber.transcribe\u001b[39m\u001b[34m(self, audio_path)\u001b[39m\n\u001b[32m     83\u001b[39m path = Path(audio_path)\n\u001b[32m     84\u001b[39m \u001b[38;5;28;01mif\u001b[39;00m \u001b[38;5;129;01mnot\u001b[39;00m path.exists():\n\u001b[32m---> \u001b[39m\u001b[32m85\u001b[39m     \u001b[38;5;28;01mraise\u001b[39;00m \u001b[38;5;167;01mFileNotFoundError\u001b[39;00m(\u001b[33mf\u001b[39m\u001b[33m\"\u001b[39m\u001b[33mAudio file not found: \u001b[39m\u001b[38;5;132;01m{\u001b[39;00mpath\u001b[38;5;132;01m}\u001b[39;00m\u001b[33m\"\u001b[39m)\n\u001b[32m     87\u001b[39m key = \u001b[38;5;28mself\u001b[39m._cache_key(path)\n\u001b[32m     88\u001b[39m \u001b[38;5;28;01mif\u001b[39;00m \u001b[38;5;28mself\u001b[39m.use_cache:\n",
      "\u001b[31mFileNotFoundError\u001b[39m: Audio file not found: path/to/audio.wav"
     ]
    }
   ],
   "source": [
    "t = AudioTranscriber(model=\"whisper-1\", language=\"en\", use_cache=True)\n",
    "\n",
    "# Single\n",
    "res = t.transcribe(\"path/to/audio.wav\")\n",
    "print(res[\"text\"])\n",
    "\n",
    "# Batch\n",
    "pairs = t.transcribe_batch([\"a.wav\", \"b.wav\"])\n",
    "for path, r in pairs:\n",
    "    print(path, r.get(\"text\"))"
   ]
  },
  {
   "cell_type": "code",
   "execution_count": null,
   "id": "11507a42",
   "metadata": {},
   "outputs": [],
   "source": [
    "import pitchperfect"
   ]
  },
  {
   "cell_type": "code",
   "execution_count": null,
   "id": "bddbd50a",
   "metadata": {},
   "outputs": [
    {
     "name": "stdout",
     "output_type": "stream",
     "text": [
      "/Users/sunaina/code/tanzania2025/pitch_perfect/notebooks\n"
     ]
    }
   ],
   "source": []
  },
  {
   "cell_type": "code",
   "execution_count": null,
   "id": "a47b3cea",
   "metadata": {},
   "outputs": [],
   "source": []
  }
 ],
 "metadata": {
  "kernelspec": {
   "display_name": "pitchperfect_env",
   "language": "python",
   "name": "python3"
  },
  "language_info": {
   "codemirror_mode": {
    "name": "ipython",
    "version": 3
   },
   "file_extension": ".py",
   "mimetype": "text/x-python",
   "name": "python",
   "nbconvert_exporter": "python",
   "pygments_lexer": "ipython3",
   "version": "3.12.9"
  }
 },
 "nbformat": 4,
 "nbformat_minor": 5
}
