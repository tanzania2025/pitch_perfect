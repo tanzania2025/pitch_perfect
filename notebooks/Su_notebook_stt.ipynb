{
 "cells": [
  {
   "cell_type": "code",
   "execution_count": null,
   "id": "36934d6d",
   "metadata": {},
   "outputs": [],
   "source": [
    "from src.speech_to_text import AudioTranscriber\n",
    "\n",
    "t = AudioTranscriber(model=\"whisper-1\", language=\"en\", use_cache=True)\n",
    "\n",
    "# Single\n",
    "res = t.transcribe(\"path/to/audio.wav\")\n",
    "print(res[\"text\"])\n",
    "\n",
    "# Batch\n",
    "pairs = t.transcribe_batch([\"a.wav\", \"b.wav\"])\n",
    "for path, r in pairs:\n",
    "    print(path, r.get(\"text\"))"
   ]
  },
  {
   "cell_type": "code",
   "execution_count": null,
   "id": "11507a42",
   "metadata": {},
   "outputs": [],
   "source": []
  }
 ],
 "metadata": {
  "kernelspec": {
   "display_name": "lewagon",
   "language": "python",
   "name": "python3"
  },
  "language_info": {
   "name": "python",
   "version": "3.12.9"
  }
 },
 "nbformat": 4,
 "nbformat_minor": 5
}
