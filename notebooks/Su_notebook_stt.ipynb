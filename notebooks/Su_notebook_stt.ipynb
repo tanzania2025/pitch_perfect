{
 "cells": [
  {
   "cell_type": "code",
   "execution_count": 1,
   "id": "36aa8190",
   "metadata": {},
   "outputs": [],
   "source": [
    "#!/usr/bin/env python3\n",
    "\"\"\"\n",
    "Speech-to-Text Analysis with MELD Dataset\n",
    "\n",
    "This script demonstrates how to use the PitchPerfect speech-to-text capabilities\n",
    "with the processed MELD dataset WAV files.\n",
    "\"\"\"\n",
    "\n",
    "from pitchperfect.speech_to_text import AudioTranscriber\n",
    "from pitchperfect.data import meld_loader as ml\n",
    "from pitchperfect.config.settings import MELD_WAV_DIR\n",
    "from pathlib import Path\n",
    "import os"
   ]
  },
  {
   "cell_type": "code",
   "execution_count": 2,
   "id": "394e862b",
   "metadata": {},
   "outputs": [
    {
     "name": "stdout",
     "output_type": "stream",
     "text": [
      "Using config paths for consistent directory resolution\n",
      "WAV output directory: /Users/sunaina/code/tanzania2025/pitch_perfect/data/processed/meld_wav\n",
      "Directory exists: True\n",
      "Looking for WAV files in: /Users/sunaina/code/tanzania2025/pitch_perfect/data/processed/meld_wav/dev\n",
      "Split directory absolute path: /Users/sunaina/code/tanzania2025/pitch_perfect/data/processed/meld_wav/dev\n",
      "Found 1112 WAV files\n",
      "First 5 files: ['dia0_utt0.wav', 'dia0_utt1.wav', 'dia100_utt0.wav', 'dia101_utt0.wav', 'dia102_utt0.wav']\n",
      "Testing transcription with: dia0_utt0.wav\n",
      "Transcript: Oh my God, he's lost it, he's totally lost it.\n",
      "Language: english\n",
      "Model: whisper-1\n"
     ]
    }
   ],
   "source": [
    "print(f\"Using config paths for consistent directory resolution\")\n",
    "\n",
    "DEFAULT_MELD_WAV_OUT = MELD_WAV_DIR\n",
    "print(f\"WAV output directory: {DEFAULT_MELD_WAV_OUT}\")\n",
    "print(f\"Directory exists: {DEFAULT_MELD_WAV_OUT.exists()}\")\n",
    "\n",
    "# List available WAV files\n",
    "base = Path(DEFAULT_MELD_WAV_OUT)\n",
    "split = 'dev'  # Can be 'train', 'dev', or 'test'\n",
    "split_dir = base / split\n",
    "print(f\"Looking for WAV files in: {split_dir}\")\n",
    "print(f\"Split directory absolute path: {split_dir.absolute()}\")\n",
    "\n",
    "if not split_dir.exists():\n",
    "    print(f\"❌ Split directory not found: {split_dir}\")\n",
    "    print(f\"❌ Absolute path: {split_dir.absolute()}\")\n",
    "    print(f\"❌ Parent directory exists: {split_dir.parent.exists()}\")\n",
    "    print(f\"❌ Available in parent: {list(split_dir.parent.iterdir()) if split_dir.parent.exists() else 'N/A'}\")\n",
    "    raise FileNotFoundError(f\"Split directory not found: {split_dir}\")\n",
    "\n",
    "wav_files = sorted(split_dir.rglob(\"*.wav\"))\n",
    "print(f\"Found {len(wav_files)} WAV files\")\n",
    "print(f\"First 5 files: {[f.name for f in wav_files[:5]]}\")\n",
    "\n",
    "# Initialize transcriber and test single file\n",
    "t = AudioTranscriber(model=\"whisper-1\", language=\"en\", use_cache=True)\n",
    "\n",
    "if wav_files:\n",
    "    # Test with first WAV file\n",
    "    test_file = wav_files[0]\n",
    "    print(f\"Testing transcription with: {test_file.name}\")\n",
    "    try:\n",
    "        res = t.transcribe(str(test_file))\n",
    "        print(f\"Transcript: {res['text']}\")\n",
    "        print(f\"Language: {res.get('language', 'Unknown')}\")\n",
    "        print(f\"Model: {res.get('model', 'Unknown')}\")\n",
    "    except Exception as e:\n",
    "        print(f\"Error transcribing {test_file.name}: {e}\")\n",
    "else:\n",
    "    print(\"No WAV files found to test\")"
   ]
  },
  {
   "cell_type": "code",
   "execution_count": 3,
   "id": "72b2e338",
   "metadata": {},
   "outputs": [
    {
     "data": {
      "text/plain": [
       "PosixPath('/Users/sunaina/code/tanzania2025/pitch_perfect/data/processed/meld_wav/dev/dia0_utt0.wav')"
      ]
     },
     "execution_count": 3,
     "metadata": {},
     "output_type": "execute_result"
    }
   ],
   "source": [
    "test_file"
   ]
  },
  {
   "cell_type": "code",
   "execution_count": 3,
   "id": "72935bd3",
   "metadata": {},
   "outputs": [
    {
     "name": "stdout",
     "output_type": "stream",
     "text": [
      " My God, he's lost, he's totally lost.\n"
     ]
    }
   ],
   "source": [
    "import whisper\n",
    "\n",
    "# \"turbo\" is fast and solid for English; use \"base/small/medium/large\" for other languages or translation\n",
    "model = whisper.load_model(\"tiny\")  # or \"small\", \"medium\", \"large\"\n",
    "# If you're on CPU only, add fp16=False\n",
    "result = model.transcribe(str(test_file), fp16=False)\n",
    "print(result[\"text\"])"
   ]
  },
  {
   "cell_type": "code",
   "execution_count": null,
   "id": "fea7b9d5",
   "metadata": {},
   "outputs": [],
   "source": []
  }
 ],
 "metadata": {
  "language_info": {
   "name": "python"
  }
 },
 "nbformat": 4,
 "nbformat_minor": 5
}
